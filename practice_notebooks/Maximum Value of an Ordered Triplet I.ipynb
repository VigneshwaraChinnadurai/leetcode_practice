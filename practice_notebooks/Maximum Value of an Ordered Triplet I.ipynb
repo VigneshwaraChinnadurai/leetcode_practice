{
 "cells": [
  {
   "cell_type": "markdown",
   "id": "9c0b697b",
   "metadata": {},
   "source": [
    "2873. Maximum Value of an Ordered Triplet I\n",
    "Easy\n",
    "Topics\n",
    "Companies\n",
    "Hint\n",
    "You are given a 0-indexed integer array nums.\n",
    "\n",
    "Return the maximum value over all triplets of indices (i, j, k) such that i < j < k. If all such triplets have a negative value, return 0.\n",
    "\n",
    "The value of a triplet of indices (i, j, k) is equal to (nums[i] - nums[j]) * nums[k].\n",
    "\n",
    " \n",
    "\n",
    "Example 1:\n",
    "\n",
    "Input: nums = [12,6,1,2,7]\n",
    "Output: 77\n",
    "Explanation: The value of the triplet (0, 2, 4) is (nums[0] - nums[2]) * nums[4] = 77.\n",
    "It can be shown that there are no ordered triplets of indices with a value greater than 77. \n",
    "Example 2:\n",
    "\n",
    "Input: nums = [1,10,3,4,19]\n",
    "Output: 133\n",
    "Explanation: The value of the triplet (1, 2, 4) is (nums[1] - nums[2]) * nums[4] = 133.\n",
    "It can be shown that there are no ordered triplets of indices with a value greater than 133.\n",
    "Example 3:\n",
    "\n",
    "Input: nums = [1,2,3]\n",
    "Output: 0\n",
    "Explanation: The only ordered triplet of indices (0, 1, 2) has a negative value of (nums[0] - nums[1]) * nums[2] = -3. Hence, the answer would be 0."
   ]
  },
  {
   "cell_type": "code",
   "execution_count": null,
   "id": "4ed55319",
   "metadata": {},
   "outputs": [],
   "source": [
    "from typing import List\n",
    "\n",
    "class Solution:\n",
    "    def maximumTripletValue(self, nums: List[int]) -> int:\n",
    "        n = len(nums)\n",
    "        max_value = 0\n",
    "        for i in range(n):\n",
    "            for j in range(i + 1, n):\n",
    "                for k in range(j + 1, n):\n",
    "                    current_value = (nums[i] - nums[j]) * nums[k]\n",
    "                    if current_value > max_value:\n",
    "                        max_value = current_value\n",
    "        return max(0, max_value)"
   ]
  },
  {
   "cell_type": "code",
   "execution_count": null,
   "id": "2b646cdc",
   "metadata": {},
   "outputs": [],
   "source": []
  }
 ],
 "metadata": {
  "kernelspec": {
   "display_name": "base",
   "language": "python",
   "name": "python3"
  },
  "language_info": {
   "name": "python",
   "version": "3.8.8"
  }
 },
 "nbformat": 4,
 "nbformat_minor": 5
}
